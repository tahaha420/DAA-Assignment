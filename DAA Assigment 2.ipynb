{
 "cells": [
  {
   "cell_type": "code",
   "execution_count": 166,
   "id": "138c7574",
   "metadata": {},
   "outputs": [],
   "source": [
    "import pandas as pd\n",
    "\n",
    "# Read the Excel spreadsheet\n",
    "df = pd.read_excel(\"City_Distances.xlsx\")\n",
    "\n",
    "# Extract the distances column-wise into a matrix\n",
    "matrix = df.iloc[:, 1:].values.tolist()\n"
   ]
  },
  {
   "cell_type": "code",
   "execution_count": 211,
   "id": "37aa8f97",
   "metadata": {},
   "outputs": [],
   "source": [
    "city_dict = {\n",
    "    'Abbottabad': 0,\n",
    "    'Ahmedpur East': 1,\n",
    "    'Aliabad': 2,\n",
    "    'Arifwala': 3,\n",
    "    'Attock': 4,\n",
    "    'Awaran': 5,\n",
    "    'Badin': 6,\n",
    "    'Bagh': 7,\n",
    "    'Bahawalnagar': 8,\n",
    "    'Bahawalpur': 9,\n",
    "    'Bannu': 10,\n",
    "    'Batgram': 11,\n",
    "    'Bhakkar': 12,\n",
    "    'Bhalwal': 13,\n",
    "    'Bhimber': 14,\n",
    "    'Charsadda': 15,\n",
    "    'Chiniot': 16,\n",
    "    'Chitral': 17,\n",
    "    'Chunian': 18,\n",
    "    'Dadu': 19,\n",
    "    'Dera Allahyar': 20,\n",
    "    'Dera Ghazi Khan': 21,\n",
    "    'Dera Ismail Khan': 22,\n",
    "    'Faisalabad': 23,\n",
    "    'Gawadar': 24,\n",
    "    'Gilgit': 25,\n",
    "    'Gujar Khan': 26,\n",
    "    'Gujranwala': 27,\n",
    "    'Gujrat': 28,\n",
    "    'Hafizabad': 29,\n",
    "    'Haripur': 30,\n",
    "    'Hassan Abdal': 31,\n",
    "    'Hyderabad': 32,\n",
    "    'Islamabad': 33,\n",
    "    'Jacobabad': 34,\n",
    "    'Jaranwala': 35,\n",
    "    'Jhang': 36,\n",
    "    'Jaglot': 37,\n",
    "    'Jhelum': 38,\n",
    "    'Kabirwala': 39,\n",
    "    'Kalabagh': 40,\n",
    "    'Kalat': 41,\n",
    "    'Kamalia': 42,\n",
    "    'Kamoke': 43,\n",
    "    'Kamra': 44,\n",
    "    'Karachi': 45,\n",
    "    'Kasur': 46,\n",
    "    'Khairpur': 47,\n",
    "    'Khanpur': 48,\n",
    "    'Khuzdar': 49,\n",
    "    'Kohat': 50,\n",
    "    'Lahore': 51,\n",
    "    'Lalamusa': 52,\n",
    "    'Larkana': 53,\n",
    "    'Loralai': 54,\n",
    "    'Layyah': 55,\n",
    "    'Mandi Bahauddin': 56,\n",
    "    'Mansehra': 57,\n",
    "    'Mian Channu': 58,\n",
    "    'Mianwali': 59,\n",
    "    'Mirpur Sakro': 60,\n",
    "    'Mirpur Khas': 61,\n",
    "    'Multan': 62,\n",
    "    'Muzaffarabad': 63,\n",
    "    'Muzaffargarh': 64,\n",
    "    'Nankana Sahib': 65,\n",
    "    'Narowal': 66,\n",
    "    'Naushahro Feroze': 67,\n",
    "    'Nawabshah': 68,\n",
    "    'Nowshera': 69,\n",
    "    'Okara': 70,\n",
    "    'Pakpattan': 71,\n",
    "    'Panjgur': 72,\n",
    "    'Peshawar': 73,\n",
    "    'Pishin': 74,\n",
    "    'Quetta': 75,\n",
    "    'Rahimyar Khan': 76,\n",
    "    'Rajanpur': 77,\n",
    "    'Rawalakot': 78,\n",
    "    'Rawalpindi': 79,\n",
    "    'Sadiqabad': 80,\n",
    "    'Sahiwal': 81,\n",
    "    'Sanghar': 82,\n",
    "    'Sargodha': 83,\n",
    "    'Shahdadkot': 84,\n",
    "    'Sheikhupura': 85,\n",
    "    'Shikarpur': 86,\n",
    "    'Sialkot': 87,\n",
    "    'Sibi': 88,\n",
    "    'Skardu': 89,\n",
    "    'Sukkur': 90,\n",
    "    'Swabi': 91,\n",
    "    'Swat': 92,\n",
    "    'Tando Adam': 93,\n",
    "    'Tando Allahyar': 94,\n",
    "    'Sakrand': 95,\n",
    "    'Thatta': 96,\n",
    "    'Toba Tek': 97,\n",
    "    'Wazirabad': 98,\n",
    "    'Vehari': 99,\n",
    "    'Zhob': 100,\n",
    "    'Ziarat': 101\n",
    "}\n"
   ]
  },
  {
   "cell_type": "markdown",
   "id": "5da0b741",
   "metadata": {},
   "source": [
    "### Floyd Warshal Algorithm"
   ]
  },
  {
   "cell_type": "code",
   "execution_count": 188,
   "id": "d86618d9",
   "metadata": {},
   "outputs": [],
   "source": [
    "def floyd_algorithm(matrix,city1,city2):\n",
    "    num_cities = 102\n",
    "    distance = [[float('inf') if i != j else 0 for j in range(102)] for i in range(102)]\n",
    "    next_city = [[None for _ in range(102)] for _ in range(102)]\n",
    "\n",
    "    for i in range(102):\n",
    "        for j in range(102):\n",
    "            if matrix[i][j] != float('inf'):\n",
    "                distance[i][j] = matrix[i][j]\n",
    "                next_city[i][j] = j\n",
    "\n",
    "    for k in range(102):\n",
    "        for i in range(102):\n",
    "            for j in range(102):\n",
    "                if distance[i][j] > distance[i][k] + distance[k][j]:\n",
    "                    distance[i][j] = distance[i][k] + distance[k][j]\n",
    "                    next_city[i][j] = next_city[i][k]\n",
    "                    \n",
    " \n",
    "    \n",
    "    dis = distance[city_dict[city1]][city_dict[city2]]\n",
    "    print(f\"The shortest distance between {city1} and {city2} is: {dis}\")"
   ]
  },
  {
   "cell_type": "code",
   "execution_count": 189,
   "id": "5c2ba232",
   "metadata": {},
   "outputs": [
    {
     "name": "stdout",
     "output_type": "stream",
     "text": [
      "The shortest distance between Karachi and Lahore is: 338.9\n"
     ]
    }
   ],
   "source": [
    "floyd_algorithm(matrix,\"Karachi\",\"Lahore\")"
   ]
  },
  {
   "cell_type": "markdown",
   "id": "b133c84d",
   "metadata": {},
   "source": [
    "## Primms Algorithm"
   ]
  },
  {
   "cell_type": "code",
   "execution_count": 191,
   "id": "16ef502d",
   "metadata": {},
   "outputs": [
    {
     "name": "stdout",
     "output_type": "stream",
     "text": [
      "Minimum Spanning Tree (MST): [0, 58, 31, 49, 45, 5, 80, 77, 34, 21, 87, 99, 29, 1, 27, 44, 32, 95, 69, 16, 24, 74, 92, 28, 53, 88, 85, 66, 10, 38, 15, 70, 82, 94, 33, 30, 76, 81, 71, 4, 52, 39, 63, 65, 36, 98, 40, 60, 97, 43, 37, 86, 91, 35, 26, 59, 41, 57, 64, 22, 13, 84, 54, 67, 20, 19, 62, 68, 96, 61, 48, 3, 9, 2, 100, 83, 14, 17, 78, 8, 72, 12, 23, 56, 18, 47, 93, 46, 7, 79, 51, 11, 89, 42, 50, 90, 101, 55, 75, 73, 6, 25]\n",
      "Total Weight of MST(length of cable required): 6419.64\n"
     ]
    }
   ],
   "source": [
    "import numpy as np\n",
    "import pandas as pd\n",
    "import math\n",
    "\n",
    "\n",
    "df = pd.read_excel(\"City_Distances.xlsx\") \n",
    "\n",
    "\n",
    "adj_matrix = np.where(df.values != 0, 1, 0)\n",
    "\n",
    "\n",
    "num_vertices = len(matrix)\n",
    "mst = [0]  \n",
    "visited = [False] * num_vertices\n",
    "visited[0] = True\n",
    "\n",
    "\n",
    "total_weight = 0\n",
    "\n",
    "#Prim's algorithm\n",
    "while len(mst) < num_vertices:\n",
    "    min_weight = math.inf\n",
    "    min_vertex = None\n",
    "\n",
    " \n",
    "    for vertex in mst:\n",
    "        for i in range(num_vertices):\n",
    "            if not visited[i] and adj_matrix[vertex][i] and df.values[vertex][i] < min_weight:\n",
    "                min_weight = df.values[vertex][i]\n",
    "                min_vertex = i\n",
    "\n",
    "    mst.append(min_vertex)\n",
    "    visited[min_vertex] = True\n",
    "    total_weight += min_weight\n",
    "\n",
    "print(\"Minimum Spanning Tree (MST):\", mst)\n",
    "print(\"Total Weight of MST(length of cable required):\", total_weight)\n"
   ]
  },
  {
   "cell_type": "code",
   "execution_count": 213,
   "id": "143de95f",
   "metadata": {},
   "outputs": [],
   "source": [
    "city_indx = [0, 58, 31, 49, 45, 5, 80, 77, 34, 21, 87, 99, 29, 1, 27, 44, 32, 95, 69, 16, 24, 74, 92, 28, 53, 88, 85, 66, 10, 38, 15, 70, 82, 94, 33, 30, 76, 81, 71, 4, 52, 39, 63, 65, 36, 98, 40, 60, 97, 43, 37, 86, 91, 35, 26, 59, 41, 57, 64, 22, 13, 84, 54, 67, 20, 19, 62, 68, 96, 61, 48, 3, 9, 2, 100, 83, 14, 17, 78, 8, 72, 12, 23, 56, 18, 47, 93, 46, 7, 79, 51, 11, 89, 42, 50, 90, 101, 55, 75, 73, 6, 25]"
   ]
  },
  {
   "cell_type": "markdown",
   "id": "c1e433a2",
   "metadata": {},
   "source": [
    "### Wire will be laid via the following cities"
   ]
  },
  {
   "cell_type": "code",
   "execution_count": 222,
   "id": "bcf9e69a",
   "metadata": {
    "scrolled": true
   },
   "outputs": [
    {
     "name": "stdout",
     "output_type": "stream",
     "text": [
      "Abbottabad Mian Channu Hassan Abdal Khuzdar Karachi Awaran Sadiqabad Rajanpur Jacobabad Dera Ghazi Khan Sialkot Vehari Hafizabad Ahmedpur East Gujranwala Kamra Hyderabad Sakrand Nowshera Chiniot Gawadar Pishin Swat Gujrat Larkana Sibi Sheikhupura Narowal Bannu Jhelum Charsadda Okara Sanghar Tando Allahyar Islamabad Haripur Rahimyar Khan Sahiwal Pakpattan Attock Lalamusa Kabirwala Muzaffarabad Nankana Sahib Jhang Wazirabad Kalabagh Mirpur Sakro Toba Tek Kamoke Jaglot Shikarpur Swabi Jaranwala Gujar Khan Mianwali Kalat Mansehra Muzaffargarh Dera Ismail Khan Bhalwal Shahdadkot Loralai Naushahro Feroze Dera Allahyar Dadu Multan Nawabshah Thatta Mirpur Khas Khanpur Arifwala Bahawalpur Aliabad Zhob Sargodha Bhimber Chitral Rawalakot Bahawalnagar Panjgur Bhakkar Faisalabad Mandi Bahauddin Chunian Khairpur Tando Adam Kasur Bagh Rawalpindi Lahore Batgram Skardu Kamalia Kohat Sukkur Ziarat Layyah Quetta Peshawar Badin Gilgit "
     ]
    }
   ],
   "source": [
    "for index in city_indx:\n",
    "    for city, city_index in city_dict.items():\n",
    "        if city_index == index:\n",
    "            print(city,end = ' ')"
   ]
  }
 ],
 "metadata": {
  "kernelspec": {
   "display_name": "Python 3 (ipykernel)",
   "language": "python",
   "name": "python3"
  },
  "language_info": {
   "codemirror_mode": {
    "name": "ipython",
    "version": 3
   },
   "file_extension": ".py",
   "mimetype": "text/x-python",
   "name": "python",
   "nbconvert_exporter": "python",
   "pygments_lexer": "ipython3",
   "version": "3.10.0"
  }
 },
 "nbformat": 4,
 "nbformat_minor": 5
}
